{
 "cells": [
  {
   "cell_type": "markdown",
   "id": "f99e53d4",
   "metadata": {},
   "source": [
    "# 图解transformer\n",
    "\n",
    "内容组织：\n",
    "- 图解transformer\n",
    "    - Transformer宏观结构\n",
    "    - Transformer结构细节\n",
    "      - 输入处理\n",
    "        - 词向量\n",
    "        - 位置向量\n",
    "      - 编码器encoder\n",
    "        - Self-Attention层\n",
    "        - 多头注意力机制\n",
    "        - Attention代码实例\n",
    "        - 残差连接\n",
    "      - 解码器\n",
    "      - 线性层和softmax\n",
    "      - 损失函数\n",
    "    - 附加资料\n",
    "    - 致谢"
   ]
  },
  {
   "cell_type": "markdown",
   "id": "a7421756",
   "metadata": {},
   "source": [
    "在学习完[图解attention](./2.1图解attention.ipynb)后，我们知晓了attention为循环神经网络带来的优点。那么有没有**一种神经网络结构**直接基于attention构造，并且不再依赖RNN、LSTM或者CNN网络结构了呢？答案便是：Transformer。因此，我们将在本小节对Transformer所涉及的细节进行深入探讨。"
   ]
  },
  {
   "cell_type": "code",
   "execution_count": null,
   "id": "5e20d8fa",
   "metadata": {},
   "outputs": [],
   "source": []
  }
 ],
 "metadata": {
  "kernelspec": {
   "display_name": "Python [conda env:nlp_with_transformers]",
   "language": "python",
   "name": "conda-env-nlp_with_transformers-py"
  },
  "language_info": {
   "codemirror_mode": {
    "name": "ipython",
    "version": 3
   },
   "file_extension": ".py",
   "mimetype": "text/x-python",
   "name": "python",
   "nbconvert_exporter": "python",
   "pygments_lexer": "ipython3",
   "version": "3.8.11"
  }
 },
 "nbformat": 4,
 "nbformat_minor": 5
}
